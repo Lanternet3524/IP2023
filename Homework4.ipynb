{
 "cells": [
  {
   "cell_type": "code",
   "execution_count": 8,
   "metadata": {},
   "outputs": [
    {
     "ename": "AttributeError",
     "evalue": "module 'cv2' has no attribute 'cv'",
     "output_type": "error",
     "traceback": [
      "\u001b[1;31m---------------------------------------------------------------------------\u001b[0m",
      "\u001b[1;31mAttributeError\u001b[0m                            Traceback (most recent call last)",
      "\u001b[1;32me:\\학습\\영상처리\\IP2023\\Homework4.ipynb 셀 1\u001b[0m line \u001b[0;36m4\n\u001b[0;32m      <a href='vscode-notebook-cell:/e%3A/%ED%95%99%EC%8A%B5/%EC%98%81%EC%83%81%EC%B2%98%EB%A6%AC/IP2023/Homework4.ipynb#W0sZmlsZQ%3D%3D?line=1'>2</a>\u001b[0m \u001b[39mimport\u001b[39;00m \u001b[39mcv2\u001b[39;00m\n\u001b[0;32m      <a href='vscode-notebook-cell:/e%3A/%ED%95%99%EC%8A%B5/%EC%98%81%EC%83%81%EC%B2%98%EB%A6%AC/IP2023/Homework4.ipynb#W0sZmlsZQ%3D%3D?line=2'>3</a>\u001b[0m cap \u001b[39m=\u001b[39m cv2\u001b[39m.\u001b[39mVideoCapture(\u001b[39m0\u001b[39m)\n\u001b[1;32m----> <a href='vscode-notebook-cell:/e%3A/%ED%95%99%EC%8A%B5/%EC%98%81%EC%83%81%EC%B2%98%EB%A6%AC/IP2023/Homework4.ipynb#W0sZmlsZQ%3D%3D?line=3'>4</a>\u001b[0m cap\u001b[39m.\u001b[39mset(cv2\u001b[39m.\u001b[39;49mcv\u001b[39m.\u001b[39mCV_CAP_PROP_FRAME_WIDTH, \u001b[39m1280\u001b[39m)\n\u001b[0;32m      <a href='vscode-notebook-cell:/e%3A/%ED%95%99%EC%8A%B5/%EC%98%81%EC%83%81%EC%B2%98%EB%A6%AC/IP2023/Homework4.ipynb#W0sZmlsZQ%3D%3D?line=4'>5</a>\u001b[0m cap\u001b[39m.\u001b[39mset(cv2\u001b[39m.\u001b[39mcv\u001b[39m.\u001b[39mCV_CAP_PROP_FRAME_HEIGHT, \u001b[39m720\u001b[39m)\n",
      "\u001b[1;31mAttributeError\u001b[0m: module 'cv2' has no attribute 'cv'"
     ]
    }
   ],
   "source": [
    "import numpy as np\n",
    "import cv2\n",
    "cap = cv2.VideoCapture(0)\n",
    "cap.set(cv2.cv.CV_CAP_PROP_FRAME_WIDTH, 1280)\n",
    "cap.set(cv2.cv.CV_CAP_PROP_FRAME_HEIGHT, 720)"
   ]
  },
  {
   "cell_type": "code",
   "execution_count": 9,
   "metadata": {},
   "outputs": [
    {
     "ename": "TypeError",
     "evalue": "'NoneType' object is not subscriptable",
     "output_type": "error",
     "traceback": [
      "\u001b[1;31m---------------------------------------------------------------------------\u001b[0m",
      "\u001b[1;31mTypeError\u001b[0m                                 Traceback (most recent call last)",
      "\u001b[1;32me:\\학습\\영상처리\\IP2023\\Homework4.ipynb 셀 2\u001b[0m line \u001b[0;36m3\n\u001b[0;32m      <a href='vscode-notebook-cell:/e%3A/%ED%95%99%EC%8A%B5/%EC%98%81%EC%83%81%EC%B2%98%EB%A6%AC/IP2023/Homework4.ipynb#W1sZmlsZQ%3D%3D?line=0'>1</a>\u001b[0m \u001b[39mwhile\u001b[39;00m \u001b[39mTrue\u001b[39;00m:\n\u001b[0;32m      <a href='vscode-notebook-cell:/e%3A/%ED%95%99%EC%8A%B5/%EC%98%81%EC%83%81%EC%B2%98%EB%A6%AC/IP2023/Homework4.ipynb#W1sZmlsZQ%3D%3D?line=1'>2</a>\u001b[0m     ret, frame \u001b[39m=\u001b[39m cap\u001b[39m.\u001b[39mread()\n\u001b[1;32m----> <a href='vscode-notebook-cell:/e%3A/%ED%95%99%EC%8A%B5/%EC%98%81%EC%83%81%EC%B2%98%EB%A6%AC/IP2023/Homework4.ipynb#W1sZmlsZQ%3D%3D?line=2'>3</a>\u001b[0m     roi \u001b[39m=\u001b[39m frame[\u001b[39m0\u001b[39;49m:\u001b[39m500\u001b[39;49m, \u001b[39m0\u001b[39;49m:\u001b[39m500\u001b[39;49m]\n\u001b[0;32m      <a href='vscode-notebook-cell:/e%3A/%ED%95%99%EC%8A%B5/%EC%98%81%EC%83%81%EC%B2%98%EB%A6%AC/IP2023/Homework4.ipynb#W1sZmlsZQ%3D%3D?line=3'>4</a>\u001b[0m     gray \u001b[39m=\u001b[39m cv2\u001b[39m.\u001b[39mcvtColor(roi, cv2\u001b[39m.\u001b[39mCOLOR_BGR2GRAY)\n",
      "\u001b[1;31mTypeError\u001b[0m: 'NoneType' object is not subscriptable"
     ]
    }
   ],
   "source": [
    "while True:\n",
    "    ret, frame = cap.read()\n",
    "    roi = frame[0:500, 0:500]\n",
    "    gray = cv2.cvtColor(roi, cv2.COLOR_BGR2GRAY)"
   ]
  },
  {
   "cell_type": "code",
   "execution_count": null,
   "metadata": {},
   "outputs": [],
   "source": [
    "gray_blur = cv2.GaussianBlur(gray, (15, 15), 0)\n",
    "thresh = cv2.adaptiveThreshold(gray_blur, 255, cv2.ADAPTIVE_THRESH_GAUSSIAN_C, cv2.THRESH_BINARY_INV, 11, 1)"
   ]
  },
  {
   "cell_type": "code",
   "execution_count": null,
   "metadata": {},
   "outputs": [],
   "source": [
    "kernel = np.ones((3, 3), np.uint8)\n",
    "closing = cv2.morphologyEx(thresh, cv2.MORPH_CLOSE, kernel, iterations=4)"
   ]
  },
  {
   "cell_type": "code",
   "execution_count": null,
   "metadata": {},
   "outputs": [],
   "source": [
    "cont_img = closing.copy()\n",
    "contours, hierarchy = cv2.findContours(cont_img, cv2.RETR_EXTERNAL, cv2.CHAIN_APPROX_SIMPLE)"
   ]
  },
  {
   "cell_type": "code",
   "execution_count": null,
   "metadata": {},
   "outputs": [],
   "source": [
    "for cnt in contours:\n",
    "    area = cv2.contourArea(cnt)\n",
    "    if area < 2000 or area > 4000:\n",
    "        continue\n",
    "\n",
    "    if len(cnt) < 5:\n",
    "        continue\n",
    "\n",
    "    ellipse = cv2.fitEllipse(cnt)\n",
    "    cv2.ellipse(roi, ellipse, (0,255,0), 2)"
   ]
  },
  {
   "cell_type": "code",
   "execution_count": null,
   "metadata": {},
   "outputs": [],
   "source": [
    "cv2.imshow('final result', roi)"
   ]
  }
 ],
 "metadata": {
  "kernelspec": {
   "display_name": "IP2023",
   "language": "python",
   "name": "python3"
  },
  "language_info": {
   "codemirror_mode": {
    "name": "ipython",
    "version": 3
   },
   "file_extension": ".py",
   "mimetype": "text/x-python",
   "name": "python",
   "nbconvert_exporter": "python",
   "pygments_lexer": "ipython3",
   "version": "3.8.17"
  }
 },
 "nbformat": 4,
 "nbformat_minor": 2
}
